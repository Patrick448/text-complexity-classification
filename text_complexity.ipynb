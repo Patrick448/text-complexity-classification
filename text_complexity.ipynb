{
 "cells": [
  {
   "cell_type": "code",
   "execution_count": 24,
   "id": "fb1edc0d9f1d0c5",
   "metadata": {
    "collapsed": true,
    "ExecuteTime": {
     "end_time": "2023-11-24T22:21:09.536785411Z",
     "start_time": "2023-11-24T22:21:09.474347432Z"
    }
   },
   "outputs": [
    {
     "name": "stdout",
     "output_type": "stream",
     "text": [
      "{'2_Ensino_Fundamental_II': '0b0', '3_Ensino_Medio': '0b1', '1_Ensino_Fundamental_I': '0b10', '4_Ensino_Superior': '0b11'}\n"
     ]
    },
    {
     "data": {
      "text/plain": "     category          name                                               text\n0         0b0   53_2746.txt  Como funciona, Origem das coisas. “É tarde! É ...\n1         0b0   65_2775.txt  A última rodada do primeiro turno do Campeonat...\n2         0b0  204_5035.txt  Em relação ao adolescente (maior de doze anos)...\n3         0b0  111_2840.txt  Curiosidades. Muitas pessoas dizem que o riso ...\n4         0b0  306_5137.txt   O trabalho infantil, principalmente em carvoa...\n...       ...           ...                                                ...\n2071     0b11  377_1409.txt   Mecânica dos fluidos/Tensão superficial\\nA pr...\n2072     0b11  451_1483.txt   Otimização/Método de gradientes conjugados\\nE...\n2073     0b11  292_1321.txt  Mecânica dos fluidos/Exercícios resolvidos/A2\\...\n2074     0b11  263_1292.txt  Logística/Movimentação de materiais/Equipament...\n2075     0b11  449_1481.txt   Análise real/Continuidade\\nAgora que definimo...\n\n[2076 rows x 3 columns]",
      "text/html": "<div>\n<style scoped>\n    .dataframe tbody tr th:only-of-type {\n        vertical-align: middle;\n    }\n\n    .dataframe tbody tr th {\n        vertical-align: top;\n    }\n\n    .dataframe thead th {\n        text-align: right;\n    }\n</style>\n<table border=\"1\" class=\"dataframe\">\n  <thead>\n    <tr style=\"text-align: right;\">\n      <th></th>\n      <th>category</th>\n      <th>name</th>\n      <th>text</th>\n    </tr>\n  </thead>\n  <tbody>\n    <tr>\n      <th>0</th>\n      <td>0b0</td>\n      <td>53_2746.txt</td>\n      <td>Como funciona, Origem das coisas. “É tarde! É ...</td>\n    </tr>\n    <tr>\n      <th>1</th>\n      <td>0b0</td>\n      <td>65_2775.txt</td>\n      <td>A última rodada do primeiro turno do Campeonat...</td>\n    </tr>\n    <tr>\n      <th>2</th>\n      <td>0b0</td>\n      <td>204_5035.txt</td>\n      <td>Em relação ao adolescente (maior de doze anos)...</td>\n    </tr>\n    <tr>\n      <th>3</th>\n      <td>0b0</td>\n      <td>111_2840.txt</td>\n      <td>Curiosidades. Muitas pessoas dizem que o riso ...</td>\n    </tr>\n    <tr>\n      <th>4</th>\n      <td>0b0</td>\n      <td>306_5137.txt</td>\n      <td>O trabalho infantil, principalmente em carvoa...</td>\n    </tr>\n    <tr>\n      <th>...</th>\n      <td>...</td>\n      <td>...</td>\n      <td>...</td>\n    </tr>\n    <tr>\n      <th>2071</th>\n      <td>0b11</td>\n      <td>377_1409.txt</td>\n      <td>Mecânica dos fluidos/Tensão superficial\\nA pr...</td>\n    </tr>\n    <tr>\n      <th>2072</th>\n      <td>0b11</td>\n      <td>451_1483.txt</td>\n      <td>Otimização/Método de gradientes conjugados\\nE...</td>\n    </tr>\n    <tr>\n      <th>2073</th>\n      <td>0b11</td>\n      <td>292_1321.txt</td>\n      <td>Mecânica dos fluidos/Exercícios resolvidos/A2\\...</td>\n    </tr>\n    <tr>\n      <th>2074</th>\n      <td>0b11</td>\n      <td>263_1292.txt</td>\n      <td>Logística/Movimentação de materiais/Equipament...</td>\n    </tr>\n    <tr>\n      <th>2075</th>\n      <td>0b11</td>\n      <td>449_1481.txt</td>\n      <td>Análise real/Continuidade\\nAgora que definimo...</td>\n    </tr>\n  </tbody>\n</table>\n<p>2076 rows × 3 columns</p>\n</div>"
     },
     "execution_count": 24,
     "metadata": {},
     "output_type": "execute_result"
    }
   ],
   "source": [
    "import csv\n",
    "import os\n",
    "import pandas as pd\n",
    "\n",
    "folders = os.listdir('dataset_caed')\n",
    "dataset = []\n",
    "\n",
    "category_map = {}\n",
    "\n",
    "for i, folder in enumerate(folders):\n",
    "    category_map[folder] = bin(i)\n",
    "\n",
    "print(category_map)\n",
    "\n",
    "for folder in folders:\n",
    "    files = os.listdir(f'dataset_caed/{folder}')\n",
    "    #print(folder)\n",
    "    for file in files:\n",
    "        #print(file)\n",
    "        with open(f'dataset_caed/{folder}/{file}', 'r', encoding='utf-8-sig') as f:\n",
    "           dataset.append({\"category\": category_map[folder], \"name\": file, \"text\": f.read()})\n",
    "\n",
    "df = pd.DataFrame(dataset)\n",
    "df"
   ]
  }
 ],
 "metadata": {
  "kernelspec": {
   "display_name": "Python 3",
   "language": "python",
   "name": "python3"
  },
  "language_info": {
   "codemirror_mode": {
    "name": "ipython",
    "version": 2
   },
   "file_extension": ".py",
   "mimetype": "text/x-python",
   "name": "python",
   "nbconvert_exporter": "python",
   "pygments_lexer": "ipython2",
   "version": "2.7.6"
  }
 },
 "nbformat": 4,
 "nbformat_minor": 5
}
