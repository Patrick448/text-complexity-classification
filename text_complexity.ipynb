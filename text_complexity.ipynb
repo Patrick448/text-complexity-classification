{
 "cells": [
  {
   "cell_type": "code",
   "execution_count": 1,
   "id": "831eb427de59254c",
   "metadata": {
    "collapsed": true,
    "ExecuteTime": {
     "end_time": "2023-12-01T14:49:30.916351234Z",
     "start_time": "2023-12-01T14:49:27.598785040Z"
    }
   },
   "outputs": [
    {
     "name": "stderr",
     "output_type": "stream",
     "text": [
      "/home/patrick/Desktop/Projects/text-complexity-classification/venv/lib/python3.10/site-packages/torch/cuda/__init__.py:611: UserWarning: Can't initialize NVML\n",
      "  warnings.warn(\"Can't initialize NVML\")\n"
     ]
    }
   ],
   "source": [
    "import pandas as pd\n",
    "from sklearn import preprocessing\n",
    "from sklearn.model_selection import train_test_split\n",
    "from sklearn.ensemble import RandomForestRegressor\n",
    "from sklearn.ensemble import RandomForestClassifier\n",
    "from sklearn.linear_model import SGDClassifier\n",
    "from sklearn.tree import DecisionTreeClassifier\n",
    "from sklearn.neighbors import KNeighborsClassifier\n",
    "from sklearn.metrics import  accuracy_score, confusion_matrix, ConfusionMatrixDisplay, precision_score, recall_score, f1_score\n",
    "from helpers import create_category_map\n",
    "import numpy as np\n",
    "import matplotlib.pyplot as plt\n",
    "#import seaborn as sns\n",
    "#from sklearn.metrics import multilabel_confusion_matrix\n",
    "from sklearn.feature_extraction.text import CountVectorizer\n",
    "from sklearn.feature_extraction.text import TfidfTransformer\n",
    "#import scipy as sp\n",
    "from sklearn.model_selection import GridSearchCV\n"
   ]
  },
  {
   "cell_type": "code",
   "execution_count": 1,
   "outputs": [],
   "source": [],
   "metadata": {
    "collapsed": false,
    "ExecuteTime": {
     "end_time": "2023-12-01T14:49:30.931742192Z",
     "start_time": "2023-12-01T14:49:30.918434356Z"
    }
   },
   "id": "9666392140f17a43"
  },
  {
   "cell_type": "markdown",
   "source": [
    "## Extrai dos dados as características que serão utilizadas\n",
    "Lê os aquivos no diretório dataset, criando um dataframe com os dados categorizados.\n",
    "Depois, analisa os textos do dataframe anterior e cria um novo dataframe com os resultados anexados.\n",
    "Por fim, cria um arquivo csv com os resultados para agilizar o processo, não sendo necessário rodar o código novamente."
   ],
   "metadata": {
    "collapsed": false
   },
   "id": "b8641a362084f862"
  },
  {
   "cell_type": "code",
   "execution_count": 2,
   "outputs": [],
   "source": [
    "#analyze_and_create_output_csv('dataset', 'output.csv')"
   ],
   "metadata": {
    "collapsed": false,
    "ExecuteTime": {
     "end_time": "2023-12-01T14:49:30.932018036Z",
     "start_time": "2023-12-01T14:49:30.922404479Z"
    }
   },
   "id": "5e9bb2da2796af28"
  },
  {
   "cell_type": "markdown",
   "source": [
    "## Lê o arquivo csv com os dados já analisados e mapeia as categorias para números"
   ],
   "metadata": {
    "collapsed": false
   },
   "id": "83c0425bc1ffb7a8"
  },
  {
   "cell_type": "code",
   "execution_count": 3,
   "outputs": [],
   "source": [
    "#category_map = create_category_map('dataset_caed')\n",
    "category_map = {'2_Ensino_Fundamental_II': 1,\n",
    " '3_Ensino_Medio': 2,\n",
    " '1_Ensino_Fundamental_I': 0,\n",
    " '4_Ensino_Superior': 3}"
   ],
   "metadata": {
    "collapsed": false,
    "ExecuteTime": {
     "end_time": "2023-12-01T14:49:30.973534076Z",
     "start_time": "2023-12-01T14:49:30.929800385Z"
    }
   },
   "id": "4faa9adf06658880"
  },
  {
   "cell_type": "code",
   "execution_count": 4,
   "outputs": [
    {
     "data": {
      "text/plain": "text                          object\npassed_quality_check            bool\nn_stop_words                 float64\nalpha_ratio                  float64\nmean_word_length             float64\n                              ...   \nproportion_unique_tokens     float64\nn_characters                   int64\nn_sentences                    int64\ncategory                    category\nname                          object\nLength: 68, dtype: object"
     },
     "execution_count": 4,
     "metadata": {},
     "output_type": "execute_result"
    }
   ],
   "source": [
    "df = pd.read_csv('output3.csv')\n",
    "df['category'] = df['category'].map(category_map)\n",
    "df.dropna(inplace=True, axis=1)\n",
    "df.astype({'category': 'category'}).dtypes\n",
    "#df.dtypes\n"
   ],
   "metadata": {
    "collapsed": false,
    "ExecuteTime": {
     "end_time": "2023-12-01T14:49:31.100155944Z",
     "start_time": "2023-12-01T14:49:30.942679615Z"
    }
   },
   "id": "fca91cc70a4433ad"
  },
  {
   "cell_type": "code",
   "execution_count": 5,
   "outputs": [
    {
     "data": {
      "text/plain": "                                                   text  passed_quality_check  \\\n0     Como funciona, Origem das coisas. “É tarde! É ...                  True   \n1     A última rodada do primeiro turno do Campeonat...                  True   \n2     Em relação ao adolescente (maior de doze anos)...                 False   \n3     Curiosidades. Muitas pessoas dizem que o riso ...                  True   \n4      O trabalho infantil, principalmente em carvoa...                  True   \n...                                                 ...                   ...   \n2071   Mecânica dos fluidos/Tensão superficial\\nA pr...                 False   \n2072   Otimização/Método de gradientes conjugados\\nE...                  True   \n2073  Mecânica dos fluidos/Exercícios resolvidos/A2\\...                  True   \n2074  Logística/Movimentação de materiais/Equipament...                 False   \n2075   Análise real/Continuidade\\nAgora que definimo...                  True   \n\n      n_stop_words  alpha_ratio  mean_word_length  doc_length  \\\n0            227.0     0.823183          4.088409       509.0   \n1            207.0     0.843424          4.127349       479.0   \n2            205.0     0.869668          4.279621       422.0   \n3            196.0     0.868360          4.826790       433.0   \n4            146.0     0.867978          4.497191       356.0   \n...            ...          ...               ...         ...   \n2071         186.0     0.827982          4.589450       436.0   \n2072         173.0     0.840399          4.738155       401.0   \n2073         284.0     0.796000          4.245333       750.0   \n2074         265.0     0.844311          4.968563       668.0   \n2075         147.0     0.801567          4.671018       383.0   \n\n      symbol_to_word_ratio_#  proportion_ellipsis  proportion_bullet_points  \\\n0                        0.0             0.000000                       0.0   \n1                        0.0             0.000000                       0.0   \n2                        0.0             0.000000                       0.0   \n3                        0.0             0.000000                       0.0   \n4                        0.0             0.000000                       0.0   \n...                      ...                  ...                       ...   \n2071                     0.0             0.333333                       0.0   \n2072                     0.0             0.000000                       0.0   \n2073                     0.0             0.000000                       0.0   \n2074                     0.0             0.000000                       0.0   \n2075                     0.0             0.000000                       0.0   \n\n      contains_lorem ipsum  ...  syllables_per_token_mean  \\\n0                      0.0  ...                  1.963048   \n1                      0.0  ...                  1.923077   \n2                      0.0  ...                  1.951482   \n3                      0.0  ...                  2.248677   \n4                      0.0  ...                  2.044444   \n...                    ...  ...                       ...   \n2071                   0.0  ...                  2.131148   \n2072                   0.0  ...                  2.213873   \n2073                   0.0  ...                  2.033033   \n2074                   0.0  ...                  2.312821   \n2075                   0.0  ...                  2.095385   \n\n      syllables_per_token_median  syllables_per_token_std  n_tokens  \\\n0                            2.0                 1.162748       433   \n1                            2.0                 1.025561       416   \n2                            2.0                 1.148216       371   \n3                            2.0                 1.339889       378   \n4                            2.0                 1.233626       315   \n...                          ...                      ...       ...   \n2071                         2.0                 1.348653       366   \n2072                         2.0                 1.299370       346   \n2073                         1.0                 1.295217       666   \n2074                         2.0                 1.409221       585   \n2075                         2.0                 1.120499       325   \n\n      n_unique_tokens  proportion_unique_tokens  n_characters  n_sentences  \\\n0                 247                  0.570439          2081           33   \n1                 240                  0.576923          1977           31   \n2                 158                  0.425876          1806           11   \n3                 224                  0.592593          2090           19   \n4                 171                  0.542857          1600           21   \n...               ...                       ...           ...          ...   \n2071              218                  0.595628          2000           18   \n2072              190                  0.549133          1899           24   \n2073              280                  0.420420          3184           28   \n2074              262                  0.447863          3319           25   \n2075              161                  0.495385          1788           20   \n\n      category          name  \n0            1   53_2746.txt  \n1            1   65_2775.txt  \n2            1  204_5035.txt  \n3            1  111_2840.txt  \n4            1  306_5137.txt  \n...        ...           ...  \n2071         3  377_1409.txt  \n2072         3  451_1483.txt  \n2073         3  292_1321.txt  \n2074         3  263_1292.txt  \n2075         3  449_1481.txt  \n\n[2076 rows x 68 columns]",
      "text/html": "<div>\n<style scoped>\n    .dataframe tbody tr th:only-of-type {\n        vertical-align: middle;\n    }\n\n    .dataframe tbody tr th {\n        vertical-align: top;\n    }\n\n    .dataframe thead th {\n        text-align: right;\n    }\n</style>\n<table border=\"1\" class=\"dataframe\">\n  <thead>\n    <tr style=\"text-align: right;\">\n      <th></th>\n      <th>text</th>\n      <th>passed_quality_check</th>\n      <th>n_stop_words</th>\n      <th>alpha_ratio</th>\n      <th>mean_word_length</th>\n      <th>doc_length</th>\n      <th>symbol_to_word_ratio_#</th>\n      <th>proportion_ellipsis</th>\n      <th>proportion_bullet_points</th>\n      <th>contains_lorem ipsum</th>\n      <th>...</th>\n      <th>syllables_per_token_mean</th>\n      <th>syllables_per_token_median</th>\n      <th>syllables_per_token_std</th>\n      <th>n_tokens</th>\n      <th>n_unique_tokens</th>\n      <th>proportion_unique_tokens</th>\n      <th>n_characters</th>\n      <th>n_sentences</th>\n      <th>category</th>\n      <th>name</th>\n    </tr>\n  </thead>\n  <tbody>\n    <tr>\n      <th>0</th>\n      <td>Como funciona, Origem das coisas. “É tarde! É ...</td>\n      <td>True</td>\n      <td>227.0</td>\n      <td>0.823183</td>\n      <td>4.088409</td>\n      <td>509.0</td>\n      <td>0.0</td>\n      <td>0.000000</td>\n      <td>0.0</td>\n      <td>0.0</td>\n      <td>...</td>\n      <td>1.963048</td>\n      <td>2.0</td>\n      <td>1.162748</td>\n      <td>433</td>\n      <td>247</td>\n      <td>0.570439</td>\n      <td>2081</td>\n      <td>33</td>\n      <td>1</td>\n      <td>53_2746.txt</td>\n    </tr>\n    <tr>\n      <th>1</th>\n      <td>A última rodada do primeiro turno do Campeonat...</td>\n      <td>True</td>\n      <td>207.0</td>\n      <td>0.843424</td>\n      <td>4.127349</td>\n      <td>479.0</td>\n      <td>0.0</td>\n      <td>0.000000</td>\n      <td>0.0</td>\n      <td>0.0</td>\n      <td>...</td>\n      <td>1.923077</td>\n      <td>2.0</td>\n      <td>1.025561</td>\n      <td>416</td>\n      <td>240</td>\n      <td>0.576923</td>\n      <td>1977</td>\n      <td>31</td>\n      <td>1</td>\n      <td>65_2775.txt</td>\n    </tr>\n    <tr>\n      <th>2</th>\n      <td>Em relação ao adolescente (maior de doze anos)...</td>\n      <td>False</td>\n      <td>205.0</td>\n      <td>0.869668</td>\n      <td>4.279621</td>\n      <td>422.0</td>\n      <td>0.0</td>\n      <td>0.000000</td>\n      <td>0.0</td>\n      <td>0.0</td>\n      <td>...</td>\n      <td>1.951482</td>\n      <td>2.0</td>\n      <td>1.148216</td>\n      <td>371</td>\n      <td>158</td>\n      <td>0.425876</td>\n      <td>1806</td>\n      <td>11</td>\n      <td>1</td>\n      <td>204_5035.txt</td>\n    </tr>\n    <tr>\n      <th>3</th>\n      <td>Curiosidades. Muitas pessoas dizem que o riso ...</td>\n      <td>True</td>\n      <td>196.0</td>\n      <td>0.868360</td>\n      <td>4.826790</td>\n      <td>433.0</td>\n      <td>0.0</td>\n      <td>0.000000</td>\n      <td>0.0</td>\n      <td>0.0</td>\n      <td>...</td>\n      <td>2.248677</td>\n      <td>2.0</td>\n      <td>1.339889</td>\n      <td>378</td>\n      <td>224</td>\n      <td>0.592593</td>\n      <td>2090</td>\n      <td>19</td>\n      <td>1</td>\n      <td>111_2840.txt</td>\n    </tr>\n    <tr>\n      <th>4</th>\n      <td>O trabalho infantil, principalmente em carvoa...</td>\n      <td>True</td>\n      <td>146.0</td>\n      <td>0.867978</td>\n      <td>4.497191</td>\n      <td>356.0</td>\n      <td>0.0</td>\n      <td>0.000000</td>\n      <td>0.0</td>\n      <td>0.0</td>\n      <td>...</td>\n      <td>2.044444</td>\n      <td>2.0</td>\n      <td>1.233626</td>\n      <td>315</td>\n      <td>171</td>\n      <td>0.542857</td>\n      <td>1600</td>\n      <td>21</td>\n      <td>1</td>\n      <td>306_5137.txt</td>\n    </tr>\n    <tr>\n      <th>...</th>\n      <td>...</td>\n      <td>...</td>\n      <td>...</td>\n      <td>...</td>\n      <td>...</td>\n      <td>...</td>\n      <td>...</td>\n      <td>...</td>\n      <td>...</td>\n      <td>...</td>\n      <td>...</td>\n      <td>...</td>\n      <td>...</td>\n      <td>...</td>\n      <td>...</td>\n      <td>...</td>\n      <td>...</td>\n      <td>...</td>\n      <td>...</td>\n      <td>...</td>\n      <td>...</td>\n    </tr>\n    <tr>\n      <th>2071</th>\n      <td>Mecânica dos fluidos/Tensão superficial\\nA pr...</td>\n      <td>False</td>\n      <td>186.0</td>\n      <td>0.827982</td>\n      <td>4.589450</td>\n      <td>436.0</td>\n      <td>0.0</td>\n      <td>0.333333</td>\n      <td>0.0</td>\n      <td>0.0</td>\n      <td>...</td>\n      <td>2.131148</td>\n      <td>2.0</td>\n      <td>1.348653</td>\n      <td>366</td>\n      <td>218</td>\n      <td>0.595628</td>\n      <td>2000</td>\n      <td>18</td>\n      <td>3</td>\n      <td>377_1409.txt</td>\n    </tr>\n    <tr>\n      <th>2072</th>\n      <td>Otimização/Método de gradientes conjugados\\nE...</td>\n      <td>True</td>\n      <td>173.0</td>\n      <td>0.840399</td>\n      <td>4.738155</td>\n      <td>401.0</td>\n      <td>0.0</td>\n      <td>0.000000</td>\n      <td>0.0</td>\n      <td>0.0</td>\n      <td>...</td>\n      <td>2.213873</td>\n      <td>2.0</td>\n      <td>1.299370</td>\n      <td>346</td>\n      <td>190</td>\n      <td>0.549133</td>\n      <td>1899</td>\n      <td>24</td>\n      <td>3</td>\n      <td>451_1483.txt</td>\n    </tr>\n    <tr>\n      <th>2073</th>\n      <td>Mecânica dos fluidos/Exercícios resolvidos/A2\\...</td>\n      <td>True</td>\n      <td>284.0</td>\n      <td>0.796000</td>\n      <td>4.245333</td>\n      <td>750.0</td>\n      <td>0.0</td>\n      <td>0.000000</td>\n      <td>0.0</td>\n      <td>0.0</td>\n      <td>...</td>\n      <td>2.033033</td>\n      <td>1.0</td>\n      <td>1.295217</td>\n      <td>666</td>\n      <td>280</td>\n      <td>0.420420</td>\n      <td>3184</td>\n      <td>28</td>\n      <td>3</td>\n      <td>292_1321.txt</td>\n    </tr>\n    <tr>\n      <th>2074</th>\n      <td>Logística/Movimentação de materiais/Equipament...</td>\n      <td>False</td>\n      <td>265.0</td>\n      <td>0.844311</td>\n      <td>4.968563</td>\n      <td>668.0</td>\n      <td>0.0</td>\n      <td>0.000000</td>\n      <td>0.0</td>\n      <td>0.0</td>\n      <td>...</td>\n      <td>2.312821</td>\n      <td>2.0</td>\n      <td>1.409221</td>\n      <td>585</td>\n      <td>262</td>\n      <td>0.447863</td>\n      <td>3319</td>\n      <td>25</td>\n      <td>3</td>\n      <td>263_1292.txt</td>\n    </tr>\n    <tr>\n      <th>2075</th>\n      <td>Análise real/Continuidade\\nAgora que definimo...</td>\n      <td>True</td>\n      <td>147.0</td>\n      <td>0.801567</td>\n      <td>4.671018</td>\n      <td>383.0</td>\n      <td>0.0</td>\n      <td>0.000000</td>\n      <td>0.0</td>\n      <td>0.0</td>\n      <td>...</td>\n      <td>2.095385</td>\n      <td>2.0</td>\n      <td>1.120499</td>\n      <td>325</td>\n      <td>161</td>\n      <td>0.495385</td>\n      <td>1788</td>\n      <td>20</td>\n      <td>3</td>\n      <td>449_1481.txt</td>\n    </tr>\n  </tbody>\n</table>\n<p>2076 rows × 68 columns</p>\n</div>"
     },
     "execution_count": 5,
     "metadata": {},
     "output_type": "execute_result"
    }
   ],
   "source": [
    "df"
   ],
   "metadata": {
    "collapsed": false,
    "ExecuteTime": {
     "end_time": "2023-12-01T14:49:31.101136356Z",
     "start_time": "2023-12-01T14:49:31.097353258Z"
    }
   },
   "id": "172314d7c6edeb4"
  },
  {
   "cell_type": "code",
   "execution_count": 6,
   "outputs": [],
   "source": [
    "\n",
    "#X_train, X_test, y_train, y_test = train_test_split(df['text'], df['category'], test_size=0.2, random_state=0)\n",
    "\n",
    "#count_vect = CountVectorizer()\n",
    "#X_train_counts = count_vect.fit_transform(X_train)\n",
    "#df_bow = pd.DataFrame.sparse.from_spmatrix(X_train_counts)\n",
    "#result = pd.concat([df, df_bow], axis=1)\n",
    "\n",
    "#result = pd.concat([df, df_bow])\n",
    "#result"
   ],
   "metadata": {
    "collapsed": false,
    "ExecuteTime": {
     "end_time": "2023-12-01T14:49:31.101291676Z",
     "start_time": "2023-12-01T14:49:31.097643640Z"
    }
   },
   "id": "f2d08f23bc5142c"
  },
  {
   "cell_type": "code",
   "execution_count": 7,
   "outputs": [],
   "source": [
    "#X_train.values"
   ],
   "metadata": {
    "collapsed": false,
    "ExecuteTime": {
     "end_time": "2023-12-01T14:49:31.101373819Z",
     "start_time": "2023-12-01T14:49:31.097774939Z"
    }
   },
   "id": "f9188f82219de7b3"
  },
  {
   "cell_type": "code",
   "execution_count": 8,
   "outputs": [
    {
     "data": {
      "text/plain": "[0.1430635838150289, 0.1565510597302505, 0.302504816955684, 0.3978805394990366]"
     },
     "execution_count": 8,
     "metadata": {},
     "output_type": "execute_result"
    }
   ],
   "source": [
    "distribution = df.groupby('category').size()\n",
    "total = distribution.sum()\n",
    "weights = [distribution[i]/total for i in range(len(distribution))]\n",
    "weights\n",
    "#print class weight\n"
   ],
   "metadata": {
    "collapsed": false,
    "ExecuteTime": {
     "end_time": "2023-12-01T14:49:31.158623485Z",
     "start_time": "2023-12-01T14:49:31.097874357Z"
    }
   },
   "id": "e06850575501bb28"
  },
  {
   "cell_type": "code",
   "execution_count": 9,
   "outputs": [],
   "source": [
    "\n",
    "def remove_outliers(dataframe):\n",
    "        for col in dataframe.columns:\n",
    "                #print(col)\n",
    "                if dataframe[col].dtype == 'float64' or dataframe[col].dtype == 'int64':\n",
    "                        Q1 = dataframe[col].quantile(0.25)\n",
    "                        Q3 = dataframe[col].quantile(0.75)\n",
    "                        IQR = Q3 - Q1\n",
    "                        lower = Q1 - 1.5*IQR\n",
    "                        upper = Q3 + 1.5*IQR\n",
    "                        \n",
    "                        dataframe = dataframe[(dataframe[col] >= lower) & (dataframe[col] <= upper)]\n",
    "        return dataframe\n",
    "                \n"
   ],
   "metadata": {
    "collapsed": false,
    "ExecuteTime": {
     "end_time": "2023-12-01T14:49:31.158756055Z",
     "start_time": "2023-12-01T14:49:31.141298513Z"
    }
   },
   "id": "6acfcf9c641aad11"
  },
  {
   "cell_type": "code",
   "execution_count": 10,
   "outputs": [],
   "source": [
    "#df = remove_outliers(df)\n"
   ],
   "metadata": {
    "collapsed": false,
    "ExecuteTime": {
     "end_time": "2023-12-01T14:49:31.158822429Z",
     "start_time": "2023-12-01T14:49:31.141399317Z"
    }
   },
   "id": "66fdc48890a44c18"
  },
  {
   "cell_type": "code",
   "execution_count": 11,
   "outputs": [],
   "source": [
    "#df.boxplot(column=['flesch_reading_ease'], by=['category'])\n",
    "#df.boxplot(column=['flesch_kincaid_grade'], by=['category'])"
   ],
   "metadata": {
    "collapsed": false,
    "ExecuteTime": {
     "end_time": "2023-12-01T14:49:31.158931190Z",
     "start_time": "2023-12-01T14:49:31.141453304Z"
    }
   },
   "id": "5632588448c10a77"
  },
  {
   "cell_type": "code",
   "execution_count": 12,
   "outputs": [],
   "source": [
    "#correlation_matrix = df.corr()\n",
    "#sns.heatmap(correlation_matrix, annot=False, cmap=plt.cm.Reds)"
   ],
   "metadata": {
    "collapsed": false,
    "ExecuteTime": {
     "end_time": "2023-12-01T14:49:31.159011194Z",
     "start_time": "2023-12-01T14:49:31.141499658Z"
    }
   },
   "id": "9059f2b3c948e0ed"
  },
  {
   "cell_type": "code",
   "execution_count": 23,
   "outputs": [],
   "source": [
    "\n",
    "def perform_grid_search_cv(dataframe, seed):\n",
    "        param_grid = [\n",
    "       # {'n_estimators': [3, 10, 30], 'max_features': [2, 4, 6, 8]},\n",
    "        {'bootstrap': [False, True], 'n_estimators': [10, 50, 100, 200], 'max_features': [10, 100, 1000 ]}]\n",
    "        \n",
    "        clf = RandomForestClassifier(random_state=seed)\n",
    "        grid_search = GridSearchCV(clf, param_grid, cv=5, scoring='accuracy', return_train_score=True, verbose=3)\n",
    "        \n",
    "        X_train, X_test, y_train, y_test = train_test_split(dataframe['text'], dataframe['category'], test_size=0.2, random_state=seed)\n",
    "\n",
    "        count_vect = CountVectorizer()\n",
    "        X_train_counts = count_vect.fit_transform(X_train)\n",
    "        \n",
    "        tfidf_transformer = TfidfTransformer()\n",
    "        X_train_tfidf = tfidf_transformer.fit_transform(X_train_counts)\n",
    "\n",
    "        grid_search.fit(X_train_tfidf, y_train)\n",
    "        \n",
    "        #X_test_counts = count_vect.transform(X_test)\n",
    "        #X_test_tfidf = tfidf_transformer.transform(X_test_counts)\n",
    "        return grid_search"
   ],
   "metadata": {
    "collapsed": false,
    "ExecuteTime": {
     "end_time": "2023-12-01T16:23:56.556462419Z",
     "start_time": "2023-12-01T16:23:56.504439756Z"
    }
   },
   "id": "5f8ef913db5e784f"
  },
  {
   "cell_type": "code",
   "execution_count": 24,
   "outputs": [
    {
     "name": "stdout",
     "output_type": "stream",
     "text": [
      "Fitting 5 folds for each of 24 candidates, totalling 120 fits\n",
      "[CV 1/5] END bootstrap=False, max_features=10, n_estimators=10;, score=(train=0.998, test=0.744) total time=   0.3s\n",
      "[CV 2/5] END bootstrap=False, max_features=10, n_estimators=10;, score=(train=0.996, test=0.741) total time=   0.4s\n",
      "[CV 3/5] END bootstrap=False, max_features=10, n_estimators=10;, score=(train=0.998, test=0.717) total time=   0.3s\n",
      "[CV 4/5] END bootstrap=False, max_features=10, n_estimators=10;, score=(train=0.997, test=0.717) total time=   0.3s\n",
      "[CV 5/5] END bootstrap=False, max_features=10, n_estimators=10;, score=(train=0.997, test=0.735) total time=   0.3s\n",
      "[CV 1/5] END bootstrap=False, max_features=10, n_estimators=50;, score=(train=0.998, test=0.801) total time=   1.3s\n",
      "[CV 2/5] END bootstrap=False, max_features=10, n_estimators=50;, score=(train=0.996, test=0.786) total time=   1.9s\n",
      "[CV 3/5] END bootstrap=False, max_features=10, n_estimators=50;, score=(train=0.998, test=0.780) total time=   1.3s\n",
      "[CV 4/5] END bootstrap=False, max_features=10, n_estimators=50;, score=(train=0.997, test=0.804) total time=   1.5s\n",
      "[CV 5/5] END bootstrap=False, max_features=10, n_estimators=50;, score=(train=0.997, test=0.789) total time=   1.5s\n",
      "[CV 1/5] END bootstrap=False, max_features=10, n_estimators=100;, score=(train=0.998, test=0.804) total time=   2.5s\n",
      "[CV 2/5] END bootstrap=False, max_features=10, n_estimators=100;, score=(train=0.996, test=0.789) total time=   3.5s\n",
      "[CV 3/5] END bootstrap=False, max_features=10, n_estimators=100;, score=(train=0.998, test=0.795) total time=   2.5s\n",
      "[CV 4/5] END bootstrap=False, max_features=10, n_estimators=100;, score=(train=0.997, test=0.792) total time=   3.0s\n",
      "[CV 5/5] END bootstrap=False, max_features=10, n_estimators=100;, score=(train=0.997, test=0.783) total time=   3.0s\n",
      "[CV 1/5] END bootstrap=False, max_features=10, n_estimators=200;, score=(train=0.998, test=0.834) total time=   5.1s\n",
      "[CV 2/5] END bootstrap=False, max_features=10, n_estimators=200;, score=(train=0.996, test=0.801) total time=   7.2s\n",
      "[CV 3/5] END bootstrap=False, max_features=10, n_estimators=200;, score=(train=0.998, test=0.792) total time=   5.2s\n",
      "[CV 4/5] END bootstrap=False, max_features=10, n_estimators=200;, score=(train=0.997, test=0.819) total time=   6.3s\n",
      "[CV 5/5] END bootstrap=False, max_features=10, n_estimators=200;, score=(train=0.997, test=0.795) total time=   6.5s\n",
      "[CV 1/5] END bootstrap=False, max_features=100, n_estimators=10;, score=(train=0.998, test=0.810) total time=   0.3s\n",
      "[CV 2/5] END bootstrap=False, max_features=100, n_estimators=10;, score=(train=0.996, test=0.777) total time=   0.4s\n",
      "[CV 3/5] END bootstrap=False, max_features=100, n_estimators=10;, score=(train=0.998, test=0.738) total time=   0.3s\n",
      "[CV 4/5] END bootstrap=False, max_features=100, n_estimators=10;, score=(train=0.997, test=0.801) total time=   0.4s\n",
      "[CV 5/5] END bootstrap=False, max_features=100, n_estimators=10;, score=(train=0.997, test=0.777) total time=   0.4s\n",
      "[CV 1/5] END bootstrap=False, max_features=100, n_estimators=50;, score=(train=0.998, test=0.825) total time=   1.7s\n",
      "[CV 2/5] END bootstrap=False, max_features=100, n_estimators=50;, score=(train=0.996, test=0.831) total time=   2.3s\n",
      "[CV 3/5] END bootstrap=False, max_features=100, n_estimators=50;, score=(train=0.998, test=0.816) total time=   1.6s\n",
      "[CV 4/5] END bootstrap=False, max_features=100, n_estimators=50;, score=(train=0.997, test=0.843) total time=   2.0s\n",
      "[CV 5/5] END bootstrap=False, max_features=100, n_estimators=50;, score=(train=0.997, test=0.831) total time=   1.9s\n",
      "[CV 1/5] END bootstrap=False, max_features=100, n_estimators=100;, score=(train=0.998, test=0.843) total time=   3.2s\n",
      "[CV 2/5] END bootstrap=False, max_features=100, n_estimators=100;, score=(train=0.996, test=0.849) total time=   4.2s\n",
      "[CV 3/5] END bootstrap=False, max_features=100, n_estimators=100;, score=(train=0.998, test=0.834) total time=   3.2s\n",
      "[CV 4/5] END bootstrap=False, max_features=100, n_estimators=100;, score=(train=0.997, test=0.861) total time=   3.7s\n",
      "[CV 5/5] END bootstrap=False, max_features=100, n_estimators=100;, score=(train=0.997, test=0.837) total time=   3.7s\n",
      "[CV 1/5] END bootstrap=False, max_features=100, n_estimators=200;, score=(train=0.998, test=0.852) total time=   6.4s\n",
      "[CV 2/5] END bootstrap=False, max_features=100, n_estimators=200;, score=(train=0.996, test=0.834) total time=   8.5s\n",
      "[CV 3/5] END bootstrap=False, max_features=100, n_estimators=200;, score=(train=0.998, test=0.831) total time=   6.6s\n",
      "[CV 4/5] END bootstrap=False, max_features=100, n_estimators=200;, score=(train=0.997, test=0.849) total time=   7.4s\n",
      "[CV 5/5] END bootstrap=False, max_features=100, n_estimators=200;, score=(train=0.997, test=0.831) total time=   7.4s\n",
      "[CV 1/5] END bootstrap=False, max_features=1000, n_estimators=10;, score=(train=0.998, test=0.795) total time=   0.8s\n",
      "[CV 2/5] END bootstrap=False, max_features=1000, n_estimators=10;, score=(train=0.996, test=0.834) total time=   0.9s\n",
      "[CV 3/5] END bootstrap=False, max_features=1000, n_estimators=10;, score=(train=0.998, test=0.810) total time=   0.8s\n",
      "[CV 4/5] END bootstrap=False, max_features=1000, n_estimators=10;, score=(train=0.997, test=0.795) total time=   0.8s\n",
      "[CV 5/5] END bootstrap=False, max_features=1000, n_estimators=10;, score=(train=0.997, test=0.789) total time=   0.8s\n",
      "[CV 1/5] END bootstrap=False, max_features=1000, n_estimators=50;, score=(train=0.998, test=0.855) total time=   4.0s\n",
      "[CV 2/5] END bootstrap=False, max_features=1000, n_estimators=50;, score=(train=0.996, test=0.834) total time=   4.5s\n",
      "[CV 3/5] END bootstrap=False, max_features=1000, n_estimators=50;, score=(train=0.998, test=0.864) total time=   3.8s\n",
      "[CV 4/5] END bootstrap=False, max_features=1000, n_estimators=50;, score=(train=0.997, test=0.870) total time=   4.0s\n",
      "[CV 5/5] END bootstrap=False, max_features=1000, n_estimators=50;, score=(train=0.997, test=0.843) total time=   4.0s\n",
      "[CV 1/5] END bootstrap=False, max_features=1000, n_estimators=100;, score=(train=0.998, test=0.852) total time=   8.5s\n",
      "[CV 2/5] END bootstrap=False, max_features=1000, n_estimators=100;, score=(train=0.996, test=0.858) total time=  10.8s\n",
      "[CV 3/5] END bootstrap=False, max_features=1000, n_estimators=100;, score=(train=0.998, test=0.864) total time=   8.8s\n",
      "[CV 4/5] END bootstrap=False, max_features=1000, n_estimators=100;, score=(train=0.997, test=0.873) total time=   9.3s\n",
      "[CV 5/5] END bootstrap=False, max_features=1000, n_estimators=100;, score=(train=0.997, test=0.852) total time=   8.3s\n",
      "[CV 1/5] END bootstrap=False, max_features=1000, n_estimators=200;, score=(train=0.998, test=0.861) total time=  15.6s\n",
      "[CV 2/5] END bootstrap=False, max_features=1000, n_estimators=200;, score=(train=0.996, test=0.864) total time=  17.1s\n",
      "[CV 3/5] END bootstrap=False, max_features=1000, n_estimators=200;, score=(train=0.998, test=0.867) total time=  15.1s\n",
      "[CV 4/5] END bootstrap=False, max_features=1000, n_estimators=200;, score=(train=0.997, test=0.886) total time=  16.2s\n",
      "[CV 5/5] END bootstrap=False, max_features=1000, n_estimators=200;, score=(train=0.997, test=0.864) total time=  16.2s\n",
      "[CV 1/5] END bootstrap=True, max_features=10, n_estimators=10;, score=(train=0.994, test=0.705) total time=   0.2s\n",
      "[CV 2/5] END bootstrap=True, max_features=10, n_estimators=10;, score=(train=0.991, test=0.699) total time=   0.2s\n",
      "[CV 3/5] END bootstrap=True, max_features=10, n_estimators=10;, score=(train=0.991, test=0.666) total time=   0.2s\n",
      "[CV 4/5] END bootstrap=True, max_features=10, n_estimators=10;, score=(train=0.994, test=0.678) total time=   0.2s\n",
      "[CV 5/5] END bootstrap=True, max_features=10, n_estimators=10;, score=(train=0.989, test=0.723) total time=   0.1s\n",
      "[CV 1/5] END bootstrap=True, max_features=10, n_estimators=50;, score=(train=0.998, test=0.765) total time=   0.8s\n",
      "[CV 2/5] END bootstrap=True, max_features=10, n_estimators=50;, score=(train=0.996, test=0.768) total time=   1.0s\n",
      "[CV 3/5] END bootstrap=True, max_features=10, n_estimators=50;, score=(train=0.998, test=0.741) total time=   0.8s\n",
      "[CV 4/5] END bootstrap=True, max_features=10, n_estimators=50;, score=(train=0.997, test=0.777) total time=   0.8s\n",
      "[CV 5/5] END bootstrap=True, max_features=10, n_estimators=50;, score=(train=0.997, test=0.753) total time=   0.8s\n",
      "[CV 1/5] END bootstrap=True, max_features=10, n_estimators=100;, score=(train=0.998, test=0.780) total time=   1.5s\n",
      "[CV 2/5] END bootstrap=True, max_features=10, n_estimators=100;, score=(train=0.996, test=0.774) total time=   2.0s\n",
      "[CV 3/5] END bootstrap=True, max_features=10, n_estimators=100;, score=(train=0.998, test=0.771) total time=   1.5s\n",
      "[CV 4/5] END bootstrap=True, max_features=10, n_estimators=100;, score=(train=0.997, test=0.777) total time=   1.8s\n",
      "[CV 5/5] END bootstrap=True, max_features=10, n_estimators=100;, score=(train=0.997, test=0.759) total time=   1.6s\n",
      "[CV 1/5] END bootstrap=True, max_features=10, n_estimators=200;, score=(train=0.998, test=0.795) total time=   2.9s\n",
      "[CV 2/5] END bootstrap=True, max_features=10, n_estimators=200;, score=(train=0.996, test=0.768) total time=   3.9s\n",
      "[CV 3/5] END bootstrap=True, max_features=10, n_estimators=200;, score=(train=0.998, test=0.756) total time=   3.0s\n",
      "[CV 4/5] END bootstrap=True, max_features=10, n_estimators=200;, score=(train=0.997, test=0.780) total time=   3.5s\n",
      "[CV 5/5] END bootstrap=True, max_features=10, n_estimators=200;, score=(train=0.997, test=0.777) total time=   3.5s\n",
      "[CV 1/5] END bootstrap=True, max_features=100, n_estimators=10;, score=(train=0.995, test=0.744) total time=   0.2s\n",
      "[CV 2/5] END bootstrap=True, max_features=100, n_estimators=10;, score=(train=0.994, test=0.756) total time=   0.2s\n",
      "[CV 3/5] END bootstrap=True, max_features=100, n_estimators=10;, score=(train=0.993, test=0.708) total time=   0.2s\n",
      "[CV 4/5] END bootstrap=True, max_features=100, n_estimators=10;, score=(train=0.991, test=0.762) total time=   0.2s\n",
      "[CV 5/5] END bootstrap=True, max_features=100, n_estimators=10;, score=(train=0.992, test=0.732) total time=   0.2s\n",
      "[CV 1/5] END bootstrap=True, max_features=100, n_estimators=50;, score=(train=0.998, test=0.819) total time=   1.0s\n",
      "[CV 2/5] END bootstrap=True, max_features=100, n_estimators=50;, score=(train=0.996, test=0.822) total time=   1.2s\n",
      "[CV 3/5] END bootstrap=True, max_features=100, n_estimators=50;, score=(train=0.998, test=0.789) total time=   1.0s\n",
      "[CV 4/5] END bootstrap=True, max_features=100, n_estimators=50;, score=(train=0.997, test=0.819) total time=   1.1s\n",
      "[CV 5/5] END bootstrap=True, max_features=100, n_estimators=50;, score=(train=0.997, test=0.801) total time=   1.0s\n",
      "[CV 1/5] END bootstrap=True, max_features=100, n_estimators=100;, score=(train=0.998, test=0.807) total time=   1.9s\n",
      "[CV 2/5] END bootstrap=True, max_features=100, n_estimators=100;, score=(train=0.996, test=0.825) total time=   2.4s\n",
      "[CV 3/5] END bootstrap=True, max_features=100, n_estimators=100;, score=(train=0.998, test=0.816) total time=   1.9s\n",
      "[CV 4/5] END bootstrap=True, max_features=100, n_estimators=100;, score=(train=0.997, test=0.831) total time=   2.1s\n",
      "[CV 5/5] END bootstrap=True, max_features=100, n_estimators=100;, score=(train=0.997, test=0.807) total time=   2.1s\n",
      "[CV 1/5] END bootstrap=True, max_features=100, n_estimators=200;, score=(train=0.998, test=0.810) total time=   3.8s\n",
      "[CV 2/5] END bootstrap=True, max_features=100, n_estimators=200;, score=(train=0.996, test=0.816) total time=   4.8s\n",
      "[CV 3/5] END bootstrap=True, max_features=100, n_estimators=200;, score=(train=0.998, test=0.795) total time=   3.8s\n",
      "[CV 4/5] END bootstrap=True, max_features=100, n_estimators=200;, score=(train=0.997, test=0.813) total time=   4.2s\n",
      "[CV 5/5] END bootstrap=True, max_features=100, n_estimators=200;, score=(train=0.997, test=0.807) total time=   4.1s\n",
      "[CV 1/5] END bootstrap=True, max_features=1000, n_estimators=10;, score=(train=0.993, test=0.810) total time=   0.5s\n",
      "[CV 2/5] END bootstrap=True, max_features=1000, n_estimators=10;, score=(train=0.992, test=0.777) total time=   0.6s\n",
      "[CV 3/5] END bootstrap=True, max_features=1000, n_estimators=10;, score=(train=0.994, test=0.768) total time=   0.5s\n",
      "[CV 4/5] END bootstrap=True, max_features=1000, n_estimators=10;, score=(train=0.992, test=0.813) total time=   0.5s\n",
      "[CV 5/5] END bootstrap=True, max_features=1000, n_estimators=10;, score=(train=0.989, test=0.786) total time=   0.5s\n",
      "[CV 1/5] END bootstrap=True, max_features=1000, n_estimators=50;, score=(train=0.998, test=0.840) total time=   2.5s\n",
      "[CV 2/5] END bootstrap=True, max_features=1000, n_estimators=50;, score=(train=0.996, test=0.834) total time=   2.7s\n",
      "[CV 3/5] END bootstrap=True, max_features=1000, n_estimators=50;, score=(train=0.998, test=0.843) total time=   2.6s\n",
      "[CV 4/5] END bootstrap=True, max_features=1000, n_estimators=50;, score=(train=0.997, test=0.837) total time=   2.6s\n",
      "[CV 5/5] END bootstrap=True, max_features=1000, n_estimators=50;, score=(train=0.997, test=0.816) total time=   2.8s\n",
      "[CV 1/5] END bootstrap=True, max_features=1000, n_estimators=100;, score=(train=0.998, test=0.849) total time=   5.0s\n",
      "[CV 2/5] END bootstrap=True, max_features=1000, n_estimators=100;, score=(train=0.996, test=0.843) total time=   5.6s\n",
      "[CV 3/5] END bootstrap=True, max_features=1000, n_estimators=100;, score=(train=0.998, test=0.837) total time=   5.2s\n",
      "[CV 4/5] END bootstrap=True, max_features=1000, n_estimators=100;, score=(train=0.997, test=0.849) total time=   5.4s\n",
      "[CV 5/5] END bootstrap=True, max_features=1000, n_estimators=100;, score=(train=0.997, test=0.852) total time=   5.4s\n",
      "[CV 1/5] END bootstrap=True, max_features=1000, n_estimators=200;, score=(train=0.998, test=0.843) total time=  10.0s\n",
      "[CV 2/5] END bootstrap=True, max_features=1000, n_estimators=200;, score=(train=0.996, test=0.849) total time=  10.7s\n",
      "[CV 3/5] END bootstrap=True, max_features=1000, n_estimators=200;, score=(train=0.998, test=0.843) total time=   9.9s\n",
      "[CV 4/5] END bootstrap=True, max_features=1000, n_estimators=200;, score=(train=0.997, test=0.883) total time=  10.4s\n",
      "[CV 5/5] END bootstrap=True, max_features=1000, n_estimators=200;, score=(train=0.997, test=0.846) total time=  10.2s\n"
     ]
    }
   ],
   "source": [
    "gs = perform_grid_search_cv(df, 0)"
   ],
   "metadata": {
    "collapsed": false,
    "ExecuteTime": {
     "end_time": "2023-12-01T16:31:42.409487518Z",
     "start_time": "2023-12-01T16:23:58.985589895Z"
    }
   },
   "id": "b1a6579406d6cbbb"
  },
  {
   "cell_type": "code",
   "execution_count": 25,
   "outputs": [
    {
     "data": {
      "text/plain": "{'bootstrap': False, 'max_features': 1000, 'n_estimators': 200}"
     },
     "execution_count": 25,
     "metadata": {},
     "output_type": "execute_result"
    }
   ],
   "source": [
    "gs.best_params_"
   ],
   "metadata": {
    "collapsed": false,
    "ExecuteTime": {
     "end_time": "2023-12-01T16:31:45.987383493Z",
     "start_time": "2023-12-01T16:31:45.974672040Z"
    }
   },
   "id": "7add2d4c8465ac31"
  },
  {
   "cell_type": "code",
   "execution_count": 26,
   "outputs": [
    {
     "data": {
      "text/plain": "RandomForestClassifier(bootstrap=False, max_features=1000, n_estimators=200,\n                       random_state=0)",
      "text/html": "<style>#sk-container-id-3 {color: black;}#sk-container-id-3 pre{padding: 0;}#sk-container-id-3 div.sk-toggleable {background-color: white;}#sk-container-id-3 label.sk-toggleable__label {cursor: pointer;display: block;width: 100%;margin-bottom: 0;padding: 0.3em;box-sizing: border-box;text-align: center;}#sk-container-id-3 label.sk-toggleable__label-arrow:before {content: \"▸\";float: left;margin-right: 0.25em;color: #696969;}#sk-container-id-3 label.sk-toggleable__label-arrow:hover:before {color: black;}#sk-container-id-3 div.sk-estimator:hover label.sk-toggleable__label-arrow:before {color: black;}#sk-container-id-3 div.sk-toggleable__content {max-height: 0;max-width: 0;overflow: hidden;text-align: left;background-color: #f0f8ff;}#sk-container-id-3 div.sk-toggleable__content pre {margin: 0.2em;color: black;border-radius: 0.25em;background-color: #f0f8ff;}#sk-container-id-3 input.sk-toggleable__control:checked~div.sk-toggleable__content {max-height: 200px;max-width: 100%;overflow: auto;}#sk-container-id-3 input.sk-toggleable__control:checked~label.sk-toggleable__label-arrow:before {content: \"▾\";}#sk-container-id-3 div.sk-estimator input.sk-toggleable__control:checked~label.sk-toggleable__label {background-color: #d4ebff;}#sk-container-id-3 div.sk-label input.sk-toggleable__control:checked~label.sk-toggleable__label {background-color: #d4ebff;}#sk-container-id-3 input.sk-hidden--visually {border: 0;clip: rect(1px 1px 1px 1px);clip: rect(1px, 1px, 1px, 1px);height: 1px;margin: -1px;overflow: hidden;padding: 0;position: absolute;width: 1px;}#sk-container-id-3 div.sk-estimator {font-family: monospace;background-color: #f0f8ff;border: 1px dotted black;border-radius: 0.25em;box-sizing: border-box;margin-bottom: 0.5em;}#sk-container-id-3 div.sk-estimator:hover {background-color: #d4ebff;}#sk-container-id-3 div.sk-parallel-item::after {content: \"\";width: 100%;border-bottom: 1px solid gray;flex-grow: 1;}#sk-container-id-3 div.sk-label:hover label.sk-toggleable__label {background-color: #d4ebff;}#sk-container-id-3 div.sk-serial::before {content: \"\";position: absolute;border-left: 1px solid gray;box-sizing: border-box;top: 0;bottom: 0;left: 50%;z-index: 0;}#sk-container-id-3 div.sk-serial {display: flex;flex-direction: column;align-items: center;background-color: white;padding-right: 0.2em;padding-left: 0.2em;position: relative;}#sk-container-id-3 div.sk-item {position: relative;z-index: 1;}#sk-container-id-3 div.sk-parallel {display: flex;align-items: stretch;justify-content: center;background-color: white;position: relative;}#sk-container-id-3 div.sk-item::before, #sk-container-id-3 div.sk-parallel-item::before {content: \"\";position: absolute;border-left: 1px solid gray;box-sizing: border-box;top: 0;bottom: 0;left: 50%;z-index: -1;}#sk-container-id-3 div.sk-parallel-item {display: flex;flex-direction: column;z-index: 1;position: relative;background-color: white;}#sk-container-id-3 div.sk-parallel-item:first-child::after {align-self: flex-end;width: 50%;}#sk-container-id-3 div.sk-parallel-item:last-child::after {align-self: flex-start;width: 50%;}#sk-container-id-3 div.sk-parallel-item:only-child::after {width: 0;}#sk-container-id-3 div.sk-dashed-wrapped {border: 1px dashed gray;margin: 0 0.4em 0.5em 0.4em;box-sizing: border-box;padding-bottom: 0.4em;background-color: white;}#sk-container-id-3 div.sk-label label {font-family: monospace;font-weight: bold;display: inline-block;line-height: 1.2em;}#sk-container-id-3 div.sk-label-container {text-align: center;}#sk-container-id-3 div.sk-container {/* jupyter's `normalize.less` sets `[hidden] { display: none; }` but bootstrap.min.css set `[hidden] { display: none !important; }` so we also need the `!important` here to be able to override the default hidden behavior on the sphinx rendered scikit-learn.org. See: https://github.com/scikit-learn/scikit-learn/issues/21755 */display: inline-block !important;position: relative;}#sk-container-id-3 div.sk-text-repr-fallback {display: none;}</style><div id=\"sk-container-id-3\" class=\"sk-top-container\"><div class=\"sk-text-repr-fallback\"><pre>RandomForestClassifier(bootstrap=False, max_features=1000, n_estimators=200,\n                       random_state=0)</pre><b>In a Jupyter environment, please rerun this cell to show the HTML representation or trust the notebook. <br />On GitHub, the HTML representation is unable to render, please try loading this page with nbviewer.org.</b></div><div class=\"sk-container\" hidden><div class=\"sk-item\"><div class=\"sk-estimator sk-toggleable\"><input class=\"sk-toggleable__control sk-hidden--visually\" id=\"sk-estimator-id-3\" type=\"checkbox\" checked><label for=\"sk-estimator-id-3\" class=\"sk-toggleable__label sk-toggleable__label-arrow\">RandomForestClassifier</label><div class=\"sk-toggleable__content\"><pre>RandomForestClassifier(bootstrap=False, max_features=1000, n_estimators=200,\n                       random_state=0)</pre></div></div></div></div></div>"
     },
     "execution_count": 26,
     "metadata": {},
     "output_type": "execute_result"
    }
   ],
   "source": [
    "gs.best_estimator_"
   ],
   "metadata": {
    "collapsed": false,
    "ExecuteTime": {
     "end_time": "2023-12-01T16:31:50.166657598Z",
     "start_time": "2023-12-01T16:31:50.153652371Z"
    }
   },
   "id": "cfe3b14653cc6d7f"
  },
  {
   "cell_type": "code",
   "execution_count": 27,
   "outputs": [
    {
     "data": {
      "text/plain": "0.8686746987951807"
     },
     "execution_count": 27,
     "metadata": {},
     "output_type": "execute_result"
    }
   ],
   "source": [
    "gs.best_score_"
   ],
   "metadata": {
    "collapsed": false,
    "ExecuteTime": {
     "end_time": "2023-12-01T16:31:55.078524566Z",
     "start_time": "2023-12-01T16:31:55.066927750Z"
    }
   },
   "id": "4ed628ef98a22574"
  },
  {
   "cell_type": "code",
   "execution_count": 29,
   "outputs": [
    {
     "data": {
      "text/plain": "[(0.7307228915662651,\n  {'bootstrap': False, 'max_features': 10, 'n_estimators': 10}),\n (0.7921686746987951,\n  {'bootstrap': False, 'max_features': 10, 'n_estimators': 50}),\n (0.7927710843373494,\n  {'bootstrap': False, 'max_features': 10, 'n_estimators': 100}),\n (0.808433734939759,\n  {'bootstrap': False, 'max_features': 10, 'n_estimators': 200}),\n (0.780722891566265,\n  {'bootstrap': False, 'max_features': 100, 'n_estimators': 10}),\n (0.8295180722891565,\n  {'bootstrap': False, 'max_features': 100, 'n_estimators': 50}),\n (0.8451807228915664,\n  {'bootstrap': False, 'max_features': 100, 'n_estimators': 100}),\n (0.8397590361445783,\n  {'bootstrap': False, 'max_features': 100, 'n_estimators': 200}),\n (0.8048192771084338,\n  {'bootstrap': False, 'max_features': 1000, 'n_estimators': 10}),\n (0.8536144578313254,\n  {'bootstrap': False, 'max_features': 1000, 'n_estimators': 50}),\n (0.8602409638554217,\n  {'bootstrap': False, 'max_features': 1000, 'n_estimators': 100}),\n (0.8686746987951807,\n  {'bootstrap': False, 'max_features': 1000, 'n_estimators': 200}),\n (0.6939759036144578,\n  {'bootstrap': True, 'max_features': 10, 'n_estimators': 10}),\n (0.7608433734939759,\n  {'bootstrap': True, 'max_features': 10, 'n_estimators': 50}),\n (0.772289156626506,\n  {'bootstrap': True, 'max_features': 10, 'n_estimators': 100}),\n (0.7753012048192771,\n  {'bootstrap': True, 'max_features': 10, 'n_estimators': 200}),\n (0.7403614457831326,\n  {'bootstrap': True, 'max_features': 100, 'n_estimators': 10}),\n (0.8102409638554218,\n  {'bootstrap': True, 'max_features': 100, 'n_estimators': 50}),\n (0.8174698795180724,\n  {'bootstrap': True, 'max_features': 100, 'n_estimators': 100}),\n (0.808433734939759,\n  {'bootstrap': True, 'max_features': 100, 'n_estimators': 200}),\n (0.7909638554216867,\n  {'bootstrap': True, 'max_features': 1000, 'n_estimators': 10}),\n (0.8343373493975903,\n  {'bootstrap': True, 'max_features': 1000, 'n_estimators': 50}),\n (0.8463855421686748,\n  {'bootstrap': True, 'max_features': 1000, 'n_estimators': 100}),\n (0.8530120481927712,\n  {'bootstrap': True, 'max_features': 1000, 'n_estimators': 200})]"
     },
     "execution_count": 29,
     "metadata": {},
     "output_type": "execute_result"
    }
   ],
   "source": [
    "#list(zip(cvres[\"mean_test_score\"], cvres[\"params\"]))"
   ],
   "metadata": {
    "collapsed": false,
    "ExecuteTime": {
     "end_time": "2023-12-01T16:32:56.575338516Z",
     "start_time": "2023-12-01T16:32:56.567641673Z"
    }
   },
   "id": "231dc0d49ea44358"
  },
  {
   "cell_type": "code",
   "execution_count": 47,
   "outputs": [],
   "source": [
    "\n",
    "\n",
    "def run_experiment_round_bow(seed, dataframe, cols_X, cols_Y):\n",
    "        X_train, X_test, y_train, y_test = train_test_split(dataframe['text'], dataframe['category'], test_size=0.2, random_state=seed)\n",
    "\n",
    "        count_vect = CountVectorizer()\n",
    "        X_train_counts = count_vect.fit_transform(X_train)\n",
    "        \n",
    "        tfidf_transformer = TfidfTransformer()\n",
    "        X_train_tfidf = tfidf_transformer.fit_transform(X_train_counts)\n",
    "        \n",
    "        clf = RandomForestClassifier(bootstrap=False, max_features=1000, n_estimators=200, random_state=seed, n_jobs=8)\n",
    "        clf.fit(X_train_tfidf, y_train)\n",
    "        \n",
    "        X_test_counts = count_vect.transform(X_test)\n",
    "        X_test_tfidf = tfidf_transformer.transform(X_test_counts)\n",
    "        \n",
    "        y_pred = clf.predict(X_test_tfidf)\n",
    "\n",
    "        return accuracy_score(y_test, y_pred), confusion_matrix(y_test, y_pred), precision_score(y_test, y_pred, average='macro'), recall_score(y_test, y_pred, average='macro'), f1_score(y_test, y_pred, average='macro'), clf.feature_importances_\n",
    "\n",
    "\n",
    "\n",
    "def run_experiment_round_bow_and_others(seed, dataframe, cols_X, cols_Y):\n",
    "        X = dataframe[cols_X]\n",
    "        y = dataframe[cols_Y]\n",
    "        \n",
    "        cols_to_normalize = X.columns.values.tolist()\n",
    "        #cols_to_normalize.remove(cols_Y)\n",
    "        cols_to_normalize = [col for col in cols_to_normalize if X[col].dtype == 'float64' or X[col].dtype == 'int64']\n",
    "        \n",
    "        # divide os dados em treino e teste para um experimento\n",
    "        X_train, X_test, y_train, y_test = train_test_split(X, y, test_size=0.2, random_state=seed)\n",
    "        \n",
    "        # Normaliza o conjunto de treino, criando uma escala baseada nele\n",
    "        min_max_scaler = preprocessing.MinMaxScaler()\n",
    "        scaled_X_train = min_max_scaler.fit_transform(X_train[cols_to_normalize])\n",
    "        X_train[cols_to_normalize] = scaled_X_train\n",
    "        \n",
    "        #cria o bag of words para a coluna text para o conjunto de treino\n",
    "        count_vect = CountVectorizer()\n",
    "        X_train_counts = count_vect.fit_transform(X_train['text'])\n",
    "        X_train.drop(columns=['text'], inplace=True)\n",
    "        X_train.astype(pd.SparseDtype(\"float\", fill_value=0.0))\n",
    "        X_train\n",
    "        \n",
    "        tfidf_transformer = TfidfTransformer()\n",
    "        X_train_tfidf = tfidf_transformer.fit_transform(X_train_counts)\n",
    "        X_train_bow = pd.DataFrame.sparse.from_spmatrix(X_train_tfidf)\n",
    "        X_train = pd.concat([X_train, X_train_bow], axis=1)\n",
    "        X_train.columns = X_train.columns.astype(str)\n",
    "        \n",
    "        \n",
    "        # Normaliza o conjunto de teste, utilizando a escala criada no conjunto de treino\n",
    "        scaled_X_test = min_max_scaler.transform(X_test[cols_to_normalize])\n",
    "        X_test[cols_to_normalize] = scaled_X_test\n",
    "        \n",
    "        \n",
    "        #cria o bag of words para a coluna text para o conjunto de teste\n",
    "        X_test_counts = count_vect.transform(X_test['text'])\n",
    "        X_test.drop(columns=['text'], inplace=True)\n",
    "        X_train.astype(pd.SparseDtype(\"float\", fill_value=0.0))\n",
    "        #X_train = X_train.astype(pd.SparseDtype(\"int64\", 0))\n",
    "        X_test_tfidf = tfidf_transformer.transform(X_test_counts)\n",
    "        X_test_bow = pd.DataFrame.sparse.from_spmatrix(X_test_tfidf)\n",
    "        X_test = pd.concat([X_test, X_test_bow], axis=1)\n",
    "        X_test.columns = X_test.columns.astype(str)\n",
    "\n",
    "       \n",
    "        rfc = RandomForestClassifier(random_state=seed, class_weight={0:weights[0], 1:weights[1], 2:weights[2], 3:weights[3]})\n",
    "        rfc.fit(X_train, y_train)\n",
    "        y_pred = rfc.predict(X_test)\n",
    "\n",
    "        return accuracy_score(y_test, y_pred), confusion_matrix(y_test, y_pred), precision_score(y_test, y_pred, average='macro'), recall_score(y_test, y_pred, average='macro'), f1_score(y_test, y_pred, average='macro'), rfc.feature_importances_\n",
    "\n",
    "\n",
    "def run_experiment_round(seed, dataframe, cols_X, cols_Y):\n",
    "        X = dataframe[cols_X]\n",
    "        y = dataframe[cols_Y]\n",
    "        \n",
    "        cols_to_normalize = X.columns.values.tolist()\n",
    "        #cols_to_normalize.remove(cols_Y)\n",
    "        cols_to_normalize = [col for col in cols_to_normalize if X[col].dtype == 'float64' or X[col].dtype == 'int64']\n",
    "        \n",
    "        # divide os dados em treino e teste para um experimento\n",
    "        X_train, X_test, y_train, y_test = train_test_split(X, y, test_size=0.2, random_state=seed)\n",
    "        \n",
    "        \n",
    "       \n",
    "       # Normaliza o conjunto de treino, criando uma escala baseada nele\n",
    "        min_max_scaler = preprocessing.MinMaxScaler()\n",
    "        scaled_X_train = min_max_scaler.fit_transform(X_train[cols_to_normalize])\n",
    "        X_train[cols_to_normalize] = scaled_X_train\n",
    "        \n",
    "        # Normaliza o conjunto de teste, utilizando a escala criada no conjunto de treino\n",
    "        scaled_X_test = min_max_scaler.transform(X_test[cols_to_normalize])\n",
    "        X_test[cols_to_normalize] = scaled_X_test\n",
    "       \n",
    "        rfc = RandomForestClassifier(random_state=seed, class_weight={0:weights[0], 1:weights[1], 2:weights[2], 3:weights[3]})\n",
    "        rfc.fit(X_train, y_train)\n",
    "        y_pred = rfc.predict(X_test)\n",
    "\n",
    "        return accuracy_score(y_test, y_pred), confusion_matrix(y_test, y_pred), precision_score(y_test, y_pred, average='macro'), recall_score(y_test, y_pred, average='macro'), f1_score(y_test, y_pred, average='macro'), rfc.feature_importances_\n",
    "\n",
    "def run_experiment(seeds, dataframe, cols_X, cols_Y):\n",
    "        result = {'accuracy_scores': [], 'confusion_matrices': [], 'precision_scores': [], 'recall_scores': [], 'f1_scores': [], 'feature_importances': []}\n",
    "        \n",
    "        for seed in seeds:\n",
    "                print(f'Round: {seed}')\n",
    "                res_accuracy_score, res_confusion_matrix, res_precision_score, res_recall_score, res_f1_score, res_feature_importances = run_experiment_round_bow(seed, dataframe, cols_X, cols_Y)\n",
    "                result['accuracy_scores'].append(res_accuracy_score)\n",
    "                result['confusion_matrices'].append(res_confusion_matrix)\n",
    "                result['precision_scores'].append(res_precision_score)\n",
    "                result['recall_scores'].append(res_recall_score)\n",
    "                result['f1_scores'].append(res_f1_score)\n",
    "                result['feature_importances'].append(res_feature_importances)\n",
    "        \n",
    "        return result"
   ],
   "metadata": {
    "collapsed": false,
    "ExecuteTime": {
     "end_time": "2023-12-01T18:14:41.761591598Z",
     "start_time": "2023-12-01T18:14:41.719606150Z"
    }
   },
   "id": "5cdd182e3be815c9"
  },
  {
   "cell_type": "code",
   "execution_count": 48,
   "outputs": [
    {
     "name": "stdout",
     "output_type": "stream",
     "text": [
      "Round: 0\n",
      "Round: 1\n",
      "Round: 2\n",
      "Round: 3\n",
      "Round: 4\n",
      "Round: 5\n",
      "Round: 6\n",
      "Round: 7\n",
      "Round: 8\n",
      "Round: 9\n",
      "Round: 10\n",
      "Round: 11\n",
      "Round: 12\n",
      "Round: 13\n",
      "Round: 14\n",
      "Round: 15\n",
      "Round: 16\n",
      "Round: 17\n",
      "Round: 18\n",
      "Round: 19\n",
      "Round: 20\n",
      "Round: 21\n",
      "Round: 22\n",
      "Round: 23\n",
      "Round: 24\n",
      "Round: 25\n",
      "Round: 26\n",
      "Round: 27\n",
      "Round: 28\n",
      "Round: 29\n"
     ]
    }
   ],
   "source": [
    "# remove colunas que não serão utilizadas e seleciona as colunas de entrada e saída\n",
    "cols_x = df.columns.values.tolist()\n",
    "cols_x.remove('category')\n",
    "cols_x.remove('name')\n",
    "#cols_x.remove('text')\n",
    "cols_y = ['category']\n",
    "results = pd.DataFrame(run_experiment(range(30), df, cols_x, 'category'))"
   ],
   "metadata": {
    "collapsed": false,
    "ExecuteTime": {
     "end_time": "2023-12-01T18:19:20.707287316Z",
     "start_time": "2023-12-01T18:14:53.305736363Z"
    }
   },
   "id": "fd41a68f1481e520"
  },
  {
   "cell_type": "code",
   "execution_count": 49,
   "outputs": [
    {
     "data": {
      "text/plain": "       accuracy_scores  precision_scores  recall_scores  f1_scores\ncount        30.000000         30.000000      30.000000  30.000000\nmean          0.868750          0.862956       0.841742   0.845667\nstd           0.015368          0.016984       0.017890   0.018922\nmin           0.831731          0.818782       0.796601   0.802844\n25%           0.859976          0.856888       0.830164   0.834394\n50%           0.873798          0.868237       0.846758   0.852913\n75%           0.879808          0.874941       0.853591   0.857642\nmax           0.891827          0.887209       0.867931   0.872834",
      "text/html": "<div>\n<style scoped>\n    .dataframe tbody tr th:only-of-type {\n        vertical-align: middle;\n    }\n\n    .dataframe tbody tr th {\n        vertical-align: top;\n    }\n\n    .dataframe thead th {\n        text-align: right;\n    }\n</style>\n<table border=\"1\" class=\"dataframe\">\n  <thead>\n    <tr style=\"text-align: right;\">\n      <th></th>\n      <th>accuracy_scores</th>\n      <th>precision_scores</th>\n      <th>recall_scores</th>\n      <th>f1_scores</th>\n    </tr>\n  </thead>\n  <tbody>\n    <tr>\n      <th>count</th>\n      <td>30.000000</td>\n      <td>30.000000</td>\n      <td>30.000000</td>\n      <td>30.000000</td>\n    </tr>\n    <tr>\n      <th>mean</th>\n      <td>0.868750</td>\n      <td>0.862956</td>\n      <td>0.841742</td>\n      <td>0.845667</td>\n    </tr>\n    <tr>\n      <th>std</th>\n      <td>0.015368</td>\n      <td>0.016984</td>\n      <td>0.017890</td>\n      <td>0.018922</td>\n    </tr>\n    <tr>\n      <th>min</th>\n      <td>0.831731</td>\n      <td>0.818782</td>\n      <td>0.796601</td>\n      <td>0.802844</td>\n    </tr>\n    <tr>\n      <th>25%</th>\n      <td>0.859976</td>\n      <td>0.856888</td>\n      <td>0.830164</td>\n      <td>0.834394</td>\n    </tr>\n    <tr>\n      <th>50%</th>\n      <td>0.873798</td>\n      <td>0.868237</td>\n      <td>0.846758</td>\n      <td>0.852913</td>\n    </tr>\n    <tr>\n      <th>75%</th>\n      <td>0.879808</td>\n      <td>0.874941</td>\n      <td>0.853591</td>\n      <td>0.857642</td>\n    </tr>\n    <tr>\n      <th>max</th>\n      <td>0.891827</td>\n      <td>0.887209</td>\n      <td>0.867931</td>\n      <td>0.872834</td>\n    </tr>\n  </tbody>\n</table>\n</div>"
     },
     "execution_count": 49,
     "metadata": {},
     "output_type": "execute_result"
    }
   ],
   "source": [
    "results.describe()"
   ],
   "metadata": {
    "collapsed": false,
    "ExecuteTime": {
     "end_time": "2023-12-01T18:22:51.160580566Z",
     "start_time": "2023-12-01T18:22:51.117175504Z"
    }
   },
   "id": "561a7b0e90abf98e"
  },
  {
   "cell_type": "code",
   "execution_count": 50,
   "outputs": [
    {
     "data": {
      "text/plain": "accuracy_scores                                                 0.891827\nconfusion_matrices     [[58, 2, 0, 1], [9, 43, 8, 3], [1, 3, 113, 13]...\nprecision_scores                                                0.886975\nrecall_scores                                                   0.867931\nf1_scores                                                       0.872834\nfeature_importances    [2.103503954857788e-05, 7.088386617630813e-05,...\nName: 14, dtype: object"
     },
     "execution_count": 50,
     "metadata": {},
     "output_type": "execute_result"
    }
   ],
   "source": [
    "results.iloc[results['accuracy_scores'].idxmax()]"
   ],
   "metadata": {
    "collapsed": false,
    "ExecuteTime": {
     "end_time": "2023-12-01T18:23:04.164415989Z",
     "start_time": "2023-12-01T18:23:04.118703103Z"
    }
   },
   "id": "69b243d6d3868cd6"
  },
  {
   "cell_type": "code",
   "execution_count": 51,
   "outputs": [
    {
     "name": "stdout",
     "output_type": "stream",
     "text": [
      "Round: 14\n"
     ]
    },
    {
     "ename": "KeyboardInterrupt",
     "evalue": "",
     "output_type": "error",
     "traceback": [
      "\u001B[0;31m---------------------------------------------------------------------------\u001B[0m",
      "\u001B[0;31mKeyboardInterrupt\u001B[0m                         Traceback (most recent call last)",
      "Cell \u001B[0;32mIn[51], line 1\u001B[0m\n\u001B[0;32m----> 1\u001B[0m results2 \u001B[38;5;241m=\u001B[39m pd\u001B[38;5;241m.\u001B[39mDataFrame(\u001B[43mrun_experiment\u001B[49m\u001B[43m(\u001B[49m\u001B[43m[\u001B[49m\u001B[38;5;241;43m14\u001B[39;49m\u001B[43m]\u001B[49m\u001B[43m,\u001B[49m\u001B[43m \u001B[49m\u001B[43mdf\u001B[49m\u001B[43m,\u001B[49m\u001B[43m \u001B[49m\u001B[43mcols_x\u001B[49m\u001B[43m,\u001B[49m\u001B[43m \u001B[49m\u001B[38;5;124;43m'\u001B[39;49m\u001B[38;5;124;43mcategory\u001B[39;49m\u001B[38;5;124;43m'\u001B[39;49m\u001B[43m)\u001B[49m)\n",
      "Cell \u001B[0;32mIn[47], line 109\u001B[0m, in \u001B[0;36mrun_experiment\u001B[0;34m(seeds, dataframe, cols_X, cols_Y)\u001B[0m\n\u001B[1;32m    107\u001B[0m \u001B[38;5;28;01mfor\u001B[39;00m seed \u001B[38;5;129;01min\u001B[39;00m seeds:\n\u001B[1;32m    108\u001B[0m         \u001B[38;5;28mprint\u001B[39m(\u001B[38;5;124mf\u001B[39m\u001B[38;5;124m'\u001B[39m\u001B[38;5;124mRound: \u001B[39m\u001B[38;5;132;01m{\u001B[39;00mseed\u001B[38;5;132;01m}\u001B[39;00m\u001B[38;5;124m'\u001B[39m)\n\u001B[0;32m--> 109\u001B[0m         res_accuracy_score, res_confusion_matrix, res_precision_score, res_recall_score, res_f1_score, res_feature_importances \u001B[38;5;241m=\u001B[39m \u001B[43mrun_experiment_round_bow\u001B[49m\u001B[43m(\u001B[49m\u001B[43mseed\u001B[49m\u001B[43m,\u001B[49m\u001B[43m \u001B[49m\u001B[43mdataframe\u001B[49m\u001B[43m,\u001B[49m\u001B[43m \u001B[49m\u001B[43mcols_X\u001B[49m\u001B[43m,\u001B[49m\u001B[43m \u001B[49m\u001B[43mcols_Y\u001B[49m\u001B[43m)\u001B[49m\n\u001B[1;32m    110\u001B[0m         result[\u001B[38;5;124m'\u001B[39m\u001B[38;5;124maccuracy_scores\u001B[39m\u001B[38;5;124m'\u001B[39m]\u001B[38;5;241m.\u001B[39mappend(res_accuracy_score)\n\u001B[1;32m    111\u001B[0m         result[\u001B[38;5;124m'\u001B[39m\u001B[38;5;124mconfusion_matrices\u001B[39m\u001B[38;5;124m'\u001B[39m]\u001B[38;5;241m.\u001B[39mappend(res_confusion_matrix)\n",
      "Cell \u001B[0;32mIn[47], line 11\u001B[0m, in \u001B[0;36mrun_experiment_round_bow\u001B[0;34m(seed, dataframe, cols_X, cols_Y)\u001B[0m\n\u001B[1;32m      8\u001B[0m X_train_tfidf \u001B[38;5;241m=\u001B[39m tfidf_transformer\u001B[38;5;241m.\u001B[39mfit_transform(X_train_counts)\n\u001B[1;32m     10\u001B[0m clf \u001B[38;5;241m=\u001B[39m RandomForestClassifier(bootstrap\u001B[38;5;241m=\u001B[39m\u001B[38;5;28;01mFalse\u001B[39;00m, max_features\u001B[38;5;241m=\u001B[39m\u001B[38;5;241m1000\u001B[39m, n_estimators\u001B[38;5;241m=\u001B[39m\u001B[38;5;241m200\u001B[39m, random_state\u001B[38;5;241m=\u001B[39mseed, n_jobs\u001B[38;5;241m=\u001B[39m\u001B[38;5;241m8\u001B[39m)\n\u001B[0;32m---> 11\u001B[0m \u001B[43mclf\u001B[49m\u001B[38;5;241;43m.\u001B[39;49m\u001B[43mfit\u001B[49m\u001B[43m(\u001B[49m\u001B[43mX_train_tfidf\u001B[49m\u001B[43m,\u001B[49m\u001B[43m \u001B[49m\u001B[43my_train\u001B[49m\u001B[43m)\u001B[49m\n\u001B[1;32m     13\u001B[0m X_test_counts \u001B[38;5;241m=\u001B[39m count_vect\u001B[38;5;241m.\u001B[39mtransform(X_test)\n\u001B[1;32m     14\u001B[0m X_test_tfidf \u001B[38;5;241m=\u001B[39m tfidf_transformer\u001B[38;5;241m.\u001B[39mtransform(X_test_counts)\n",
      "File \u001B[0;32m~/Desktop/Projects/text-complexity-classification/venv/lib/python3.10/site-packages/sklearn/base.py:1152\u001B[0m, in \u001B[0;36m_fit_context.<locals>.decorator.<locals>.wrapper\u001B[0;34m(estimator, *args, **kwargs)\u001B[0m\n\u001B[1;32m   1145\u001B[0m     estimator\u001B[38;5;241m.\u001B[39m_validate_params()\n\u001B[1;32m   1147\u001B[0m \u001B[38;5;28;01mwith\u001B[39;00m config_context(\n\u001B[1;32m   1148\u001B[0m     skip_parameter_validation\u001B[38;5;241m=\u001B[39m(\n\u001B[1;32m   1149\u001B[0m         prefer_skip_nested_validation \u001B[38;5;129;01mor\u001B[39;00m global_skip_validation\n\u001B[1;32m   1150\u001B[0m     )\n\u001B[1;32m   1151\u001B[0m ):\n\u001B[0;32m-> 1152\u001B[0m     \u001B[38;5;28;01mreturn\u001B[39;00m \u001B[43mfit_method\u001B[49m\u001B[43m(\u001B[49m\u001B[43mestimator\u001B[49m\u001B[43m,\u001B[49m\u001B[43m \u001B[49m\u001B[38;5;241;43m*\u001B[39;49m\u001B[43margs\u001B[49m\u001B[43m,\u001B[49m\u001B[43m \u001B[49m\u001B[38;5;241;43m*\u001B[39;49m\u001B[38;5;241;43m*\u001B[39;49m\u001B[43mkwargs\u001B[49m\u001B[43m)\u001B[49m\n",
      "File \u001B[0;32m~/Desktop/Projects/text-complexity-classification/venv/lib/python3.10/site-packages/sklearn/ensemble/_forest.py:456\u001B[0m, in \u001B[0;36mBaseForest.fit\u001B[0;34m(self, X, y, sample_weight)\u001B[0m\n\u001B[1;32m    445\u001B[0m trees \u001B[38;5;241m=\u001B[39m [\n\u001B[1;32m    446\u001B[0m     \u001B[38;5;28mself\u001B[39m\u001B[38;5;241m.\u001B[39m_make_estimator(append\u001B[38;5;241m=\u001B[39m\u001B[38;5;28;01mFalse\u001B[39;00m, random_state\u001B[38;5;241m=\u001B[39mrandom_state)\n\u001B[1;32m    447\u001B[0m     \u001B[38;5;28;01mfor\u001B[39;00m i \u001B[38;5;129;01min\u001B[39;00m \u001B[38;5;28mrange\u001B[39m(n_more_estimators)\n\u001B[1;32m    448\u001B[0m ]\n\u001B[1;32m    450\u001B[0m \u001B[38;5;66;03m# Parallel loop: we prefer the threading backend as the Cython code\u001B[39;00m\n\u001B[1;32m    451\u001B[0m \u001B[38;5;66;03m# for fitting the trees is internally releasing the Python GIL\u001B[39;00m\n\u001B[1;32m    452\u001B[0m \u001B[38;5;66;03m# making threading more efficient than multiprocessing in\u001B[39;00m\n\u001B[1;32m    453\u001B[0m \u001B[38;5;66;03m# that case. However, for joblib 0.12+ we respect any\u001B[39;00m\n\u001B[1;32m    454\u001B[0m \u001B[38;5;66;03m# parallel_backend contexts set at a higher level,\u001B[39;00m\n\u001B[1;32m    455\u001B[0m \u001B[38;5;66;03m# since correctness does not rely on using threads.\u001B[39;00m\n\u001B[0;32m--> 456\u001B[0m trees \u001B[38;5;241m=\u001B[39m \u001B[43mParallel\u001B[49m\u001B[43m(\u001B[49m\n\u001B[1;32m    457\u001B[0m \u001B[43m    \u001B[49m\u001B[43mn_jobs\u001B[49m\u001B[38;5;241;43m=\u001B[39;49m\u001B[38;5;28;43mself\u001B[39;49m\u001B[38;5;241;43m.\u001B[39;49m\u001B[43mn_jobs\u001B[49m\u001B[43m,\u001B[49m\n\u001B[1;32m    458\u001B[0m \u001B[43m    \u001B[49m\u001B[43mverbose\u001B[49m\u001B[38;5;241;43m=\u001B[39;49m\u001B[38;5;28;43mself\u001B[39;49m\u001B[38;5;241;43m.\u001B[39;49m\u001B[43mverbose\u001B[49m\u001B[43m,\u001B[49m\n\u001B[1;32m    459\u001B[0m \u001B[43m    \u001B[49m\u001B[43mprefer\u001B[49m\u001B[38;5;241;43m=\u001B[39;49m\u001B[38;5;124;43m\"\u001B[39;49m\u001B[38;5;124;43mthreads\u001B[39;49m\u001B[38;5;124;43m\"\u001B[39;49m\u001B[43m,\u001B[49m\n\u001B[1;32m    460\u001B[0m \u001B[43m\u001B[49m\u001B[43m)\u001B[49m\u001B[43m(\u001B[49m\n\u001B[1;32m    461\u001B[0m \u001B[43m    \u001B[49m\u001B[43mdelayed\u001B[49m\u001B[43m(\u001B[49m\u001B[43m_parallel_build_trees\u001B[49m\u001B[43m)\u001B[49m\u001B[43m(\u001B[49m\n\u001B[1;32m    462\u001B[0m \u001B[43m        \u001B[49m\u001B[43mt\u001B[49m\u001B[43m,\u001B[49m\n\u001B[1;32m    463\u001B[0m \u001B[43m        \u001B[49m\u001B[38;5;28;43mself\u001B[39;49m\u001B[38;5;241;43m.\u001B[39;49m\u001B[43mbootstrap\u001B[49m\u001B[43m,\u001B[49m\n\u001B[1;32m    464\u001B[0m \u001B[43m        \u001B[49m\u001B[43mX\u001B[49m\u001B[43m,\u001B[49m\n\u001B[1;32m    465\u001B[0m \u001B[43m        \u001B[49m\u001B[43my\u001B[49m\u001B[43m,\u001B[49m\n\u001B[1;32m    466\u001B[0m \u001B[43m        \u001B[49m\u001B[43msample_weight\u001B[49m\u001B[43m,\u001B[49m\n\u001B[1;32m    467\u001B[0m \u001B[43m        \u001B[49m\u001B[43mi\u001B[49m\u001B[43m,\u001B[49m\n\u001B[1;32m    468\u001B[0m \u001B[43m        \u001B[49m\u001B[38;5;28;43mlen\u001B[39;49m\u001B[43m(\u001B[49m\u001B[43mtrees\u001B[49m\u001B[43m)\u001B[49m\u001B[43m,\u001B[49m\n\u001B[1;32m    469\u001B[0m \u001B[43m        \u001B[49m\u001B[43mverbose\u001B[49m\u001B[38;5;241;43m=\u001B[39;49m\u001B[38;5;28;43mself\u001B[39;49m\u001B[38;5;241;43m.\u001B[39;49m\u001B[43mverbose\u001B[49m\u001B[43m,\u001B[49m\n\u001B[1;32m    470\u001B[0m \u001B[43m        \u001B[49m\u001B[43mclass_weight\u001B[49m\u001B[38;5;241;43m=\u001B[39;49m\u001B[38;5;28;43mself\u001B[39;49m\u001B[38;5;241;43m.\u001B[39;49m\u001B[43mclass_weight\u001B[49m\u001B[43m,\u001B[49m\n\u001B[1;32m    471\u001B[0m \u001B[43m        \u001B[49m\u001B[43mn_samples_bootstrap\u001B[49m\u001B[38;5;241;43m=\u001B[39;49m\u001B[43mn_samples_bootstrap\u001B[49m\u001B[43m,\u001B[49m\n\u001B[1;32m    472\u001B[0m \u001B[43m    \u001B[49m\u001B[43m)\u001B[49m\n\u001B[1;32m    473\u001B[0m \u001B[43m    \u001B[49m\u001B[38;5;28;43;01mfor\u001B[39;49;00m\u001B[43m \u001B[49m\u001B[43mi\u001B[49m\u001B[43m,\u001B[49m\u001B[43m \u001B[49m\u001B[43mt\u001B[49m\u001B[43m \u001B[49m\u001B[38;5;129;43;01min\u001B[39;49;00m\u001B[43m \u001B[49m\u001B[38;5;28;43menumerate\u001B[39;49m\u001B[43m(\u001B[49m\u001B[43mtrees\u001B[49m\u001B[43m)\u001B[49m\n\u001B[1;32m    474\u001B[0m \u001B[43m\u001B[49m\u001B[43m)\u001B[49m\n\u001B[1;32m    476\u001B[0m \u001B[38;5;66;03m# Collect newly grown trees\u001B[39;00m\n\u001B[1;32m    477\u001B[0m \u001B[38;5;28mself\u001B[39m\u001B[38;5;241m.\u001B[39mestimators_\u001B[38;5;241m.\u001B[39mextend(trees)\n",
      "File \u001B[0;32m~/Desktop/Projects/text-complexity-classification/venv/lib/python3.10/site-packages/sklearn/utils/parallel.py:65\u001B[0m, in \u001B[0;36mParallel.__call__\u001B[0;34m(self, iterable)\u001B[0m\n\u001B[1;32m     60\u001B[0m config \u001B[38;5;241m=\u001B[39m get_config()\n\u001B[1;32m     61\u001B[0m iterable_with_config \u001B[38;5;241m=\u001B[39m (\n\u001B[1;32m     62\u001B[0m     (_with_config(delayed_func, config), args, kwargs)\n\u001B[1;32m     63\u001B[0m     \u001B[38;5;28;01mfor\u001B[39;00m delayed_func, args, kwargs \u001B[38;5;129;01min\u001B[39;00m iterable\n\u001B[1;32m     64\u001B[0m )\n\u001B[0;32m---> 65\u001B[0m \u001B[38;5;28;01mreturn\u001B[39;00m \u001B[38;5;28;43msuper\u001B[39;49m\u001B[43m(\u001B[49m\u001B[43m)\u001B[49m\u001B[38;5;241;43m.\u001B[39;49m\u001B[38;5;21;43m__call__\u001B[39;49m\u001B[43m(\u001B[49m\u001B[43miterable_with_config\u001B[49m\u001B[43m)\u001B[49m\n",
      "File \u001B[0;32m~/Desktop/Projects/text-complexity-classification/venv/lib/python3.10/site-packages/joblib/parallel.py:1952\u001B[0m, in \u001B[0;36mParallel.__call__\u001B[0;34m(self, iterable)\u001B[0m\n\u001B[1;32m   1946\u001B[0m \u001B[38;5;66;03m# The first item from the output is blank, but it makes the interpreter\u001B[39;00m\n\u001B[1;32m   1947\u001B[0m \u001B[38;5;66;03m# progress until it enters the Try/Except block of the generator and\u001B[39;00m\n\u001B[1;32m   1948\u001B[0m \u001B[38;5;66;03m# reach the first `yield` statement. This starts the aynchronous\u001B[39;00m\n\u001B[1;32m   1949\u001B[0m \u001B[38;5;66;03m# dispatch of the tasks to the workers.\u001B[39;00m\n\u001B[1;32m   1950\u001B[0m \u001B[38;5;28mnext\u001B[39m(output)\n\u001B[0;32m-> 1952\u001B[0m \u001B[38;5;28;01mreturn\u001B[39;00m output \u001B[38;5;28;01mif\u001B[39;00m \u001B[38;5;28mself\u001B[39m\u001B[38;5;241m.\u001B[39mreturn_generator \u001B[38;5;28;01melse\u001B[39;00m \u001B[38;5;28;43mlist\u001B[39;49m\u001B[43m(\u001B[49m\u001B[43moutput\u001B[49m\u001B[43m)\u001B[49m\n",
      "File \u001B[0;32m~/Desktop/Projects/text-complexity-classification/venv/lib/python3.10/site-packages/joblib/parallel.py:1595\u001B[0m, in \u001B[0;36mParallel._get_outputs\u001B[0;34m(self, iterator, pre_dispatch)\u001B[0m\n\u001B[1;32m   1592\u001B[0m     \u001B[38;5;28;01myield\u001B[39;00m\n\u001B[1;32m   1594\u001B[0m     \u001B[38;5;28;01mwith\u001B[39;00m \u001B[38;5;28mself\u001B[39m\u001B[38;5;241m.\u001B[39m_backend\u001B[38;5;241m.\u001B[39mretrieval_context():\n\u001B[0;32m-> 1595\u001B[0m         \u001B[38;5;28;01myield from\u001B[39;00m \u001B[38;5;28mself\u001B[39m\u001B[38;5;241m.\u001B[39m_retrieve()\n\u001B[1;32m   1597\u001B[0m \u001B[38;5;28;01mexcept\u001B[39;00m \u001B[38;5;167;01mGeneratorExit\u001B[39;00m:\n\u001B[1;32m   1598\u001B[0m     \u001B[38;5;66;03m# The generator has been garbage collected before being fully\u001B[39;00m\n\u001B[1;32m   1599\u001B[0m     \u001B[38;5;66;03m# consumed. This aborts the remaining tasks if possible and warn\u001B[39;00m\n\u001B[1;32m   1600\u001B[0m     \u001B[38;5;66;03m# the user if necessary.\u001B[39;00m\n\u001B[1;32m   1601\u001B[0m     \u001B[38;5;28mself\u001B[39m\u001B[38;5;241m.\u001B[39m_exception \u001B[38;5;241m=\u001B[39m \u001B[38;5;28;01mTrue\u001B[39;00m\n",
      "File \u001B[0;32m~/Desktop/Projects/text-complexity-classification/venv/lib/python3.10/site-packages/joblib/parallel.py:1707\u001B[0m, in \u001B[0;36mParallel._retrieve\u001B[0;34m(self)\u001B[0m\n\u001B[1;32m   1702\u001B[0m \u001B[38;5;66;03m# If the next job is not ready for retrieval yet, we just wait for\u001B[39;00m\n\u001B[1;32m   1703\u001B[0m \u001B[38;5;66;03m# async callbacks to progress.\u001B[39;00m\n\u001B[1;32m   1704\u001B[0m \u001B[38;5;28;01mif\u001B[39;00m ((\u001B[38;5;28mlen\u001B[39m(\u001B[38;5;28mself\u001B[39m\u001B[38;5;241m.\u001B[39m_jobs) \u001B[38;5;241m==\u001B[39m \u001B[38;5;241m0\u001B[39m) \u001B[38;5;129;01mor\u001B[39;00m\n\u001B[1;32m   1705\u001B[0m     (\u001B[38;5;28mself\u001B[39m\u001B[38;5;241m.\u001B[39m_jobs[\u001B[38;5;241m0\u001B[39m]\u001B[38;5;241m.\u001B[39mget_status(\n\u001B[1;32m   1706\u001B[0m         timeout\u001B[38;5;241m=\u001B[39m\u001B[38;5;28mself\u001B[39m\u001B[38;5;241m.\u001B[39mtimeout) \u001B[38;5;241m==\u001B[39m TASK_PENDING)):\n\u001B[0;32m-> 1707\u001B[0m     \u001B[43mtime\u001B[49m\u001B[38;5;241;43m.\u001B[39;49m\u001B[43msleep\u001B[49m\u001B[43m(\u001B[49m\u001B[38;5;241;43m0.01\u001B[39;49m\u001B[43m)\u001B[49m\n\u001B[1;32m   1708\u001B[0m     \u001B[38;5;28;01mcontinue\u001B[39;00m\n\u001B[1;32m   1710\u001B[0m \u001B[38;5;66;03m# We need to be careful: the job list can be filling up as\u001B[39;00m\n\u001B[1;32m   1711\u001B[0m \u001B[38;5;66;03m# we empty it and Python list are not thread-safe by\u001B[39;00m\n\u001B[1;32m   1712\u001B[0m \u001B[38;5;66;03m# default hence the use of the lock\u001B[39;00m\n",
      "\u001B[0;31mKeyboardInterrupt\u001B[0m: "
     ]
    }
   ],
   "source": [
    "results2 = pd.DataFrame(run_experiment([14], df, cols_x, 'category'))"
   ],
   "metadata": {
    "collapsed": false,
    "ExecuteTime": {
     "end_time": "2023-12-01T18:23:11.202033676Z",
     "start_time": "2023-12-01T18:23:06.608023879Z"
    }
   },
   "id": "165c0bd0acb6121d"
  },
  {
   "cell_type": "code",
   "execution_count": 52,
   "outputs": [
    {
     "data": {
      "text/plain": "   accuracy_scores                                 confusion_matrices  \\\n0         0.891827  [[58, 2, 0, 1], [9, 43, 8, 3], [1, 3, 113, 13]...   \n\n   precision_scores  recall_scores  f1_scores  \\\n0          0.886975       0.867931   0.872834   \n\n                                 feature_importances  \n0  [2.103503954857788e-05, 7.088386617630813e-05,...  ",
      "text/html": "<div>\n<style scoped>\n    .dataframe tbody tr th:only-of-type {\n        vertical-align: middle;\n    }\n\n    .dataframe tbody tr th {\n        vertical-align: top;\n    }\n\n    .dataframe thead th {\n        text-align: right;\n    }\n</style>\n<table border=\"1\" class=\"dataframe\">\n  <thead>\n    <tr style=\"text-align: right;\">\n      <th></th>\n      <th>accuracy_scores</th>\n      <th>confusion_matrices</th>\n      <th>precision_scores</th>\n      <th>recall_scores</th>\n      <th>f1_scores</th>\n      <th>feature_importances</th>\n    </tr>\n  </thead>\n  <tbody>\n    <tr>\n      <th>0</th>\n      <td>0.891827</td>\n      <td>[[58, 2, 0, 1], [9, 43, 8, 3], [1, 3, 113, 13]...</td>\n      <td>0.886975</td>\n      <td>0.867931</td>\n      <td>0.872834</td>\n      <td>[2.103503954857788e-05, 7.088386617630813e-05,...</td>\n    </tr>\n  </tbody>\n</table>\n</div>"
     },
     "execution_count": 52,
     "metadata": {},
     "output_type": "execute_result"
    }
   ],
   "source": [
    "results2"
   ],
   "metadata": {
    "collapsed": false,
    "ExecuteTime": {
     "end_time": "2023-12-01T18:23:14.654399659Z",
     "start_time": "2023-12-01T18:23:14.615591478Z"
    }
   },
   "id": "ba0b5fd77e4907f6"
  },
  {
   "cell_type": "code",
   "execution_count": 53,
   "outputs": [
    {
     "data": {
      "text/plain": "<Figure size 640x480 with 2 Axes>",
      "image/png": "[encoded data removed]"
     },
     "metadata": {},
     "output_type": "display_data"
    },
    {
     "data": {
      "text/plain": "<Figure size 640x480 with 2 Axes>",
      "image/png": "[encoded data removed]"
     },
     "metadata": {},
     "output_type": "display_data"
    }
   ],
   "source": [
    "\n",
    "aggregated_confusion_matrix = results['confusion_matrices'].sum()\n",
    "normalized_confusion_matrix = aggregated_confusion_matrix.astype('float') / aggregated_confusion_matrix.sum(axis=1)[:, np.newaxis]\n",
    "disp = ConfusionMatrixDisplay(confusion_matrix=normalized_confusion_matrix, display_labels=[0,1,2,3])\n",
    "\n",
    "disp = disp.plot(include_values=True, cmap='hot', ax=None, xticks_rotation='horizontal', values_format=None)\n",
    "\n",
    "confusion_matrix_zero_diagonal = normalized_confusion_matrix.copy()\n",
    "np.fill_diagonal(confusion_matrix_zero_diagonal, 0)\n",
    "disp2 = ConfusionMatrixDisplay(confusion_matrix=confusion_matrix_zero_diagonal, display_labels=[0,1,2,3])\n",
    "disp2 = disp2.plot(include_values=True, cmap='hot', ax=None, xticks_rotation='horizontal', values_format=None)"
   ],
   "metadata": {
    "collapsed": false,
    "ExecuteTime": {
     "end_time": "2023-12-01T18:23:16.885752629Z",
     "start_time": "2023-12-01T18:23:16.388470504Z"
    }
   },
   "id": "3b536671976051bc"
  },
  {
   "cell_type": "markdown",
   "source": [],
   "metadata": {
    "collapsed": false
   },
   "id": "172aac8f50e12e85"
  },
  {
   "cell_type": "markdown",
   "source": [],
   "metadata": {
    "collapsed": false
   },
   "id": "440c5454a0236d47"
  }
 ],
 "metadata": {
  "kernelspec": {
   "display_name": "Python 3",
   "language": "python",
   "name": "python3"
  },
  "language_info": {
   "codemirror_mode": {
    "name": "ipython",
    "version": 2
   },
   "file_extension": ".py",
   "mimetype": "text/x-python",
   "name": "python",
   "nbconvert_exporter": "python",
   "pygments_lexer": "ipython2",
   "version": "2.7.6"
  }
 },
 "nbformat": 4,
 "nbformat_minor": 5
}
